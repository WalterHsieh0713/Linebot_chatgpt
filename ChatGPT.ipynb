{
 "cells": [
  {
   "cell_type": "code",
   "execution_count": 1,
   "id": "7040b5f4",
   "metadata": {},
   "outputs": [
    {
     "ename": "KeyError",
     "evalue": "'ORG_KEY'",
     "output_type": "error",
     "traceback": [
      "\u001b[1;31m---------------------------------------------------------------------------\u001b[0m",
      "\u001b[1;31mKeyError\u001b[0m                                  Traceback (most recent call last)",
      "Cell \u001b[1;32mIn[1], line 8\u001b[0m\n\u001b[0;32m      6\u001b[0m config \u001b[38;5;241m=\u001b[39m dotenv_values(\u001b[38;5;124m\"\u001b[39m\u001b[38;5;124menv.txt\u001b[39m\u001b[38;5;124m\"\u001b[39m)\n\u001b[0;32m      7\u001b[0m app \u001b[38;5;241m=\u001b[39m Flask(\u001b[38;5;18m__name__\u001b[39m)\n\u001b[1;32m----> 8\u001b[0m openai\u001b[38;5;241m.\u001b[39morganization \u001b[38;5;241m=\u001b[39m \u001b[43mconfig\u001b[49m\u001b[43m[\u001b[49m\u001b[38;5;124;43m\"\u001b[39;49m\u001b[38;5;124;43mORG_KEY\u001b[39;49m\u001b[38;5;124;43m\"\u001b[39;49m\u001b[43m]\u001b[49m\n\u001b[0;32m      9\u001b[0m openai\u001b[38;5;241m.\u001b[39mapi_key \u001b[38;5;241m=\u001b[39m config[\u001b[38;5;124m\"\u001b[39m\u001b[38;5;124mOPENAI_API_KEY\u001b[39m\u001b[38;5;124m\"\u001b[39m]\n\u001b[0;32m     11\u001b[0m \u001b[38;5;129m@app\u001b[39m\u001b[38;5;241m.\u001b[39mroute(\u001b[38;5;124m\"\u001b[39m\u001b[38;5;124m/\u001b[39m\u001b[38;5;124m\"\u001b[39m, methods\u001b[38;5;241m=\u001b[39m[\u001b[38;5;124m\"\u001b[39m\u001b[38;5;124mGET\u001b[39m\u001b[38;5;124m\"\u001b[39m])\n\u001b[0;32m     12\u001b[0m \u001b[38;5;28;01mdef\u001b[39;00m \u001b[38;5;21mwelcome\u001b[39m():\n",
      "\u001b[1;31mKeyError\u001b[0m: 'ORG_KEY'"
     ]
    }
   ],
   "source": [
    "import openai\n",
    "import re\n",
    "from flask import Flask, request, jsonify\n",
    "from dotenv import dotenv_values\n",
    "\n",
    "config = dotenv_values(\"env.txt\")\n",
    "app = Flask(__name__)\n",
    "openai.organization = config[\"ORG_KEY\"]\n",
    "openai.api_key = config[\"OPENAI_API_KEY\"]\n",
    "\n",
    "@app.route(\"/\", methods=[\"GET\"])\n",
    "def welcome():\n",
    "    args = request.args\n",
    "    print(args)\n",
    "    return \"hello \" + args[\"name\"]\n",
    "\n",
    "@app.route(\"/text_completion\", methods=[\"POST\"])\n",
    "def text_completion():\n",
    "    # Extract the prompt from the request body\n",
    "    prompt = request.json[\"prompt\"]\n",
    "\n",
    "    # Define the parameters for the API request\n",
    "    model_engine = \"text-davinci-002\"\n",
    "    max_tokens = 50\n",
    "    temperature = 0.7\n",
    "\n",
    "    # Call the OpenAI API to get the text completion\n",
    "    completion = openai.Completion.create(\n",
    "        engine=model_engine,\n",
    "        prompt=prompt,\n",
    "        max_tokens=max_tokens,\n",
    "        temperature=temperature\n",
    "    )\n",
    "\n",
    "    # Extract the completed text from the API\n",
    "# Extract the completed text from the API response\n",
    "    result = completion.choices[0].text.strip()\n",
    "\n",
    "    # Return the completed text in JSON format\n",
    "    return jsonify({\"result\": result})\n",
    "\n",
    "if __name__ == '__main__':\n",
    "    app.run()"
   ]
  }
 ],
 "metadata": {
  "kernelspec": {
   "display_name": "Python 3 (ipykernel)",
   "language": "python",
   "name": "python3"
  },
  "language_info": {
   "codemirror_mode": {
    "name": "ipython",
    "version": 3
   },
   "file_extension": ".py",
   "mimetype": "text/x-python",
   "name": "python",
   "nbconvert_exporter": "python",
   "pygments_lexer": "ipython3",
   "version": "3.10.9"
  }
 },
 "nbformat": 4,
 "nbformat_minor": 5
}
