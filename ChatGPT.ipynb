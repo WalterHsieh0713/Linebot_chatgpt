{
 "cells": [
  {
   "cell_type": "code",
   "execution_count": null,
   "id": "7040b5f4",
   "metadata": {},
   "outputs": [
    {
     "name": "stdout",
     "output_type": "stream",
     "text": [
      " * Serving Flask app '__main__'\n",
      " * Debug mode: off\n"
     ]
    },
    {
     "name": "stderr",
     "output_type": "stream",
     "text": [
      "WARNING: This is a development server. Do not use it in a production deployment. Use a production WSGI server instead.\n",
      " * Running on http://127.0.0.1:5000\n",
      "Press CTRL+C to quit\n",
      "127.0.0.1 - - [03/Jun/2023 09:24:25] \"GET / HTTP/1.1\" 400 -\n"
     ]
    },
    {
     "name": "stdout",
     "output_type": "stream",
     "text": [
      "ImmutableMultiDict([])\n"
     ]
    },
    {
     "name": "stderr",
     "output_type": "stream",
     "text": [
      "127.0.0.1 - - [03/Jun/2023 09:24:25] \"GET /static/EuclidSquare-Regular-WebS.woff HTTP/1.1\" 404 -\n",
      "127.0.0.1 - - [03/Jun/2023 09:24:25] \"GET /static/EuclidSquare-Medium-WebS.woff HTTP/1.1\" 404 -\n",
      "127.0.0.1 - - [03/Jun/2023 09:24:25] \"GET /static/EuclidSquare-RegularItalic-WebS.woff HTTP/1.1\" 404 -\n",
      "127.0.0.1 - - [03/Jun/2023 09:24:25] \"GET /static/IBMPlexMono-TextItalic.woff HTTP/1.1\" 404 -\n",
      "127.0.0.1 - - [03/Jun/2023 09:24:25] \"GET /static/EuclidSquare-MediumItalic-WebS.woff HTTP/1.1\" 404 -\n",
      "127.0.0.1 - - [03/Jun/2023 09:24:25] \"GET /static/IBMPlexMono-Text.woff HTTP/1.1\" 404 -\n",
      "127.0.0.1 - - [03/Jun/2023 09:24:25] \"GET /static/IBMPlexMono-SemiBoldItalic.woff HTTP/1.1\" 404 -\n",
      "127.0.0.1 - - [03/Jun/2023 09:24:25] \"GET /static/IBMPlexMono-SemiBold.woff HTTP/1.1\" 404 -\n",
      "127.0.0.1 - - [03/Jun/2023 09:24:26] \"GET /favicon.ico HTTP/1.1\" 404 -\n",
      "127.0.0.1 - - [03/Jun/2023 09:25:59] \"GET / HTTP/1.1\" 400 -\n"
     ]
    },
    {
     "name": "stdout",
     "output_type": "stream",
     "text": [
      "ImmutableMultiDict([])\n"
     ]
    },
    {
     "name": "stderr",
     "output_type": "stream",
     "text": [
      "127.0.0.1 - - [03/Jun/2023 09:26:00] \"GET /static/EuclidSquare-Medium-WebS.woff HTTP/1.1\" 404 -\n",
      "127.0.0.1 - - [03/Jun/2023 09:26:00] \"GET /static/EuclidSquare-Regular-WebS.woff HTTP/1.1\" 404 -\n",
      "127.0.0.1 - - [03/Jun/2023 09:26:00] \"GET /static/IBMPlexMono-SemiBold.woff HTTP/1.1\" 404 -\n",
      "127.0.0.1 - - [03/Jun/2023 09:26:00] \"GET /static/IBMPlexMono-SemiBoldItalic.woff HTTP/1.1\" 404 -\n",
      "127.0.0.1 - - [03/Jun/2023 09:26:00] \"GET /static/EuclidSquare-RegularItalic-WebS.woff HTTP/1.1\" 404 -\n",
      "127.0.0.1 - - [03/Jun/2023 09:26:00] \"GET /static/EuclidSquare-MediumItalic-WebS.woff HTTP/1.1\" 404 -\n",
      "127.0.0.1 - - [03/Jun/2023 09:26:00] \"GET /static/IBMPlexMono-TextItalic.woff HTTP/1.1\" 404 -\n",
      "127.0.0.1 - - [03/Jun/2023 09:26:00] \"GET /static/IBMPlexMono-Text.woff HTTP/1.1\" 404 -\n",
      "127.0.0.1 - - [03/Jun/2023 09:26:00] \"GET /favicon.ico HTTP/1.1\" 404 -\n",
      "127.0.0.1 - - [03/Jun/2023 09:26:34] \"GET / HTTP/1.1\" 400 -\n"
     ]
    },
    {
     "name": "stdout",
     "output_type": "stream",
     "text": [
      "ImmutableMultiDict([])\n"
     ]
    },
    {
     "name": "stderr",
     "output_type": "stream",
     "text": [
      "127.0.0.1 - - [03/Jun/2023 09:26:34] \"GET /static/EuclidSquare-Medium-WebS.woff HTTP/1.1\" 404 -\n",
      "127.0.0.1 - - [03/Jun/2023 09:26:34] \"GET /static/EuclidSquare-Regular-WebS.woff HTTP/1.1\" 404 -\n",
      "127.0.0.1 - - [03/Jun/2023 09:26:34] \"GET /static/IBMPlexMono-SemiBoldItalic.woff HTTP/1.1\" 404 -\n",
      "127.0.0.1 - - [03/Jun/2023 09:26:34] \"GET /static/EuclidSquare-RegularItalic-WebS.woff HTTP/1.1\" 404 -\n",
      "127.0.0.1 - - [03/Jun/2023 09:26:34] \"GET /static/EuclidSquare-MediumItalic-WebS.woff HTTP/1.1\" 404 -\n",
      "127.0.0.1 - - [03/Jun/2023 09:26:34] \"GET /static/IBMPlexMono-Text.woff HTTP/1.1\" 404 -\n",
      "127.0.0.1 - - [03/Jun/2023 09:26:34] \"GET /static/IBMPlexMono-SemiBold.woff HTTP/1.1\" 404 -\n",
      "127.0.0.1 - - [03/Jun/2023 09:26:34] \"GET /static/IBMPlexMono-TextItalic.woff HTTP/1.1\" 404 -\n",
      "127.0.0.1 - - [03/Jun/2023 09:26:34] \"GET /favicon.ico HTTP/1.1\" 404 -\n",
      "127.0.0.1 - - [03/Jun/2023 11:51:25] \"GET / HTTP/1.1\" 400 -\n"
     ]
    },
    {
     "name": "stdout",
     "output_type": "stream",
     "text": [
      "ImmutableMultiDict([])\n"
     ]
    },
    {
     "name": "stderr",
     "output_type": "stream",
     "text": [
      "127.0.0.1 - - [03/Jun/2023 11:51:26] \"GET /favicon.ico HTTP/1.1\" 404 -\n"
     ]
    }
   ],
   "source": [
    "import openai\n",
    "import re\n",
    "from flask import Flask, request, jsonify\n",
    "from dotenv import dotenv_values\n",
    "\n",
    "config = dotenv_values(\"env.txt\")\n",
    "app = Flask(__name__)\n",
    "openai.organization = config[\"ORG_KEY\"]\n",
    "openai.api_key = config[\"OPENAI_API_KEY\"]\n",
    "\n",
    "@app.route(\"/\", methods=[\"GET\"])\n",
    "def welcome():\n",
    "    args = request.args\n",
    "    print(args)\n",
    "    return \"hello \" + args[\"name\"]\n",
    "\n",
    "@app.route(\"/text_completion\", methods=[\"POST\"])\n",
    "def text_completion():\n",
    "    # Extract the prompt from the request body\n",
    "    prompt = request.json[\"prompt\"]\n",
    "\n",
    "    # Define the parameters for the API request\n",
    "    model_engine = \"text-davinci-002\"\n",
    "    max_tokens = 50\n",
    "    temperature = 0.7\n",
    "\n",
    "    # Call the OpenAI API to get the text completion\n",
    "    completion = openai.Completion.create(\n",
    "        engine=model_engine,\n",
    "        prompt=prompt,\n",
    "        max_tokens=max_tokens,\n",
    "        temperature=temperature\n",
    "    )\n",
    "\n",
    "    # Extract the completed text from the API\n",
    "# Extract the completed text from the API response\n",
    "    result = completion.choices[0].text.strip()\n",
    "\n",
    "    # Return the completed text in JSON format\n",
    "    return jsonify({\"result\": result})\n",
    "\n",
    "if __name__ == '__main__':\n",
    "    app.run()"
   ]
  }
 ],
 "metadata": {
  "kernelspec": {
   "display_name": "Python 3 (ipykernel)",
   "language": "python",
   "name": "python3"
  },
  "language_info": {
   "codemirror_mode": {
    "name": "ipython",
    "version": 3
   },
   "file_extension": ".py",
   "mimetype": "text/x-python",
   "name": "python",
   "nbconvert_exporter": "python",
   "pygments_lexer": "ipython3",
   "version": "3.10.9"
  }
 },
 "nbformat": 4,
 "nbformat_minor": 5
}
