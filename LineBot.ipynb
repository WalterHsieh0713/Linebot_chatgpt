{
 "cells": [
  {
   "cell_type": "code",
   "execution_count": null,
   "id": "200d8c47",
   "metadata": {},
   "outputs": [],
   "source": [
    "import requests\n",
    "import json\n",
    "from dotenv import dotenv_values\n",
    "\n",
    "config = dotenv_values(\"env.txt\")\n",
    "\n",
    "# LINE Messaging API endpoint\n",
    "url = 'https://api.line.me/v2/bot/message/push'\n",
    "\n",
    "# Set your Channel Access Token\n",
    "access_token = config['LINE_ACCESS_TOKEN']\n",
    "\n",
    "# Set the target user ID\n",
    "user_id = config['LINE_USER_ID']\n",
    "\n",
    "# Set the message content\n",
    "message = {\n",
    "    'type': 'text',\n",
    "    'text': 'Hello, World!'\n",
    "}\n",
    "\n",
    "# Set the request headers\n",
    "headers = {\n",
    "    'Content-Type': 'application/json',\n",
    "    'Authorization': f'Bearer {access_token}'\n",
    "}\n",
    "\n",
    "# Set the request payload\n",
    "payload = {\n",
    "    'to': user_id,\n",
    "    'messages': [message]\n",
    "}\n",
    "\n",
    "# Send the POST request to the LINE Messaging API\n",
    "response = requests.post(url, headers=headers, data=json.dumps(payload))\n",
    "\n",
    "# Check the response status\n",
    "if response.status_code == 200:\n",
    "    print('Message sent successfully!')\n",
    "else:\n",
    "    print('Failed to send the message. Error:', response.text)\n"
   ]
  }
 ],
 "metadata": {
  "kernelspec": {
   "display_name": "Python 3 (ipykernel)",
   "language": "python",
   "name": "python3"
  },
  "language_info": {
   "codemirror_mode": {
    "name": "ipython",
    "version": 3
   },
   "file_extension": ".py",
   "mimetype": "text/x-python",
   "name": "python",
   "nbconvert_exporter": "python",
   "pygments_lexer": "ipython3",
   "version": "3.10.9"
  }
 },
 "nbformat": 4,
 "nbformat_minor": 5
}
